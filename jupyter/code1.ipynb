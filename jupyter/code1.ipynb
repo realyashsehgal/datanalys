{
 "cells": [
  {
   "cell_type": "code",
   "execution_count": 1,
   "metadata": {},
   "outputs": [],
   "source": [
    "import pandas as pd\n",
    "import numpy as np\n",
    "import sklearn.impute as SimpleImputer\n"
   ]
  },
  {
   "cell_type": "code",
   "execution_count": 12,
   "metadata": {},
   "outputs": [],
   "source": [
    "data = pd.read_csv('c:/Users/yashs/OneDrive/Documents/datanalys/jupyter/concmain.csv')\n"
   ]
  },
  {
   "cell_type": "code",
   "execution_count": 13,
   "metadata": {},
   "outputs": [
    {
     "name": "stdout",
     "output_type": "stream",
     "text": [
      "   EmployeeID  gender       department  Days Present Accuracy of Work  \\\n",
      "0           1    Male            Sales            20             High   \n",
      "1           2  Female        Marketing            22           Medium   \n",
      "2           3    Male  Human Resources            25             High   \n",
      "3           4    Male      Engineering            19              Low   \n",
      "4           5  Female          Finance            23           Medium   \n",
      "\n",
      "  Meeting Project Deadlines Task Completion Rates  \\\n",
      "0                       Yes                   85%   \n",
      "1                       Yes                   90%   \n",
      "2                        No                   80%   \n",
      "3                       Yes                   75%   \n",
      "4                       Yes                   85%   \n",
      "\n",
      "   Interpersonal Skills Rating  Decision-Making Skills Rating  \\\n",
      "0                            8                              7   \n",
      "1                            7                              6   \n",
      "2                            9                              8   \n",
      "3                            6                              5   \n",
      "4                            7                              7   \n",
      "\n",
      "   Sales Revenue Generated churned  \n",
      "0                    51638      No  \n",
      "1                    97797     Yes  \n",
      "2                    95341      No  \n",
      "3                    91806      No  \n",
      "4                    64247     Yes  \n"
     ]
    }
   ],
   "source": [
    "print(data.head())"
   ]
  },
  {
   "cell_type": "code",
   "execution_count": null,
   "metadata": {},
   "outputs": [],
   "source": []
  }
 ],
 "metadata": {
  "kernelspec": {
   "display_name": "Python 3",
   "language": "python",
   "name": "python3"
  },
  "language_info": {
   "codemirror_mode": {
    "name": "ipython",
    "version": 3
   },
   "file_extension": ".py",
   "mimetype": "text/x-python",
   "name": "python",
   "nbconvert_exporter": "python",
   "pygments_lexer": "ipython3",
   "version": "3.12.5"
  }
 },
 "nbformat": 4,
 "nbformat_minor": 2
}
